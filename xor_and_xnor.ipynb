{
  "nbformat": 4,
  "nbformat_minor": 0,
  "metadata": {
    "colab": {
      "name": "xor and xnor.ipynb",
      "version": "0.3.2",
      "provenance": [],
      "include_colab_link": true
    },
    "kernelspec": {
      "name": "python3",
      "display_name": "Python 3"
    }
  },
  "cells": [
    {
      "cell_type": "markdown",
      "metadata": {
        "id": "view-in-github",
        "colab_type": "text"
      },
      "source": [
        "<a href=\"https://colab.research.google.com/github/ganeshan007/Xor-and-Xnor/blob/master/xor_and_xnor.ipynb\" target=\"_parent\"><img src=\"https://colab.research.google.com/assets/colab-badge.svg\" alt=\"Open In Colab\"/></a>"
      ]
    },
    {
      "cell_type": "code",
      "metadata": {
        "id": "-dMQLAKX4vMP",
        "colab_type": "code",
        "outputId": "dd303c75-7a34-4a16-eabd-0da018f2f016",
        "colab": {
          "base_uri": "https://localhost:8080/",
          "height": 122
        }
      },
      "source": [
        "import numpy as np\n",
        "\n",
        "\n",
        "x=np.array([[0,0,0,0,0],[0,0,0,1,0],[0,0,1,0,0],[0,0,1,1,0],[0,1,0,0,0],[0,1,0,1,0],[0,1,1,0,0],[0,1,1,1,0],[1,0,0,0,0],[1,0,0,1,0],[1,0,1,0,0],[1,0,1,1,0],[1,1,0,0,0],[1,1,0,1,0],[1,1,1,0,0],[1,1,1,1,0],[0,0,0,0,1],[0,0,0,1,1],[0,0,1,0,1],[0,0,1,1,1],[0,1,0,0,1],[0,1,0,1,1],[0,1,1,0,1],[0,1,1,1,1],[1,0,0,0,1],[1,0,0,1,1],[1,0,1,0,1],[1,0,1,1,1],[1,1,0,0,1],[1,1,0,1,1],[1,1,1,0,1],[1,1,1,1,1]])\n",
        "print(x.shape)\n",
        "y=np.array([[0,0],[0,1],[1,0],[1,1],[0,1],[0,0],[1,1],[1,0],[1,0],[1,1],[0,0],[0,1],[1,1],[1,0],[0,1],[0,0],[1,1],[1,0],[0,1],[0,0],[1,0],[1,1],[0,0],[0,1],[0,1],[0,0],[1,1],[1,0],[0,0],[0,1],[1,0],[1,1]])\n",
        "print(y.shape)\n",
        "def sigmoid(z):\n",
        "  return 1/(1+np.exp(-z))\n",
        "\n",
        "def sigmoid_derivative(z):\n",
        "  return z*(1-z)\n",
        "\n",
        "input_neurons,hidneurons,outneurons=5,5,2\n",
        "\n",
        "hiddenweights=np.random.uniform(size=(input_neurons,hidneurons))\n",
        "print(hiddenweights.shape)\n",
        "hiddenbiases=np.random.uniform(size=(1,hidneurons))\n",
        "outputweights=np.random.uniform(size=(hidneurons,outneurons))\n",
        "outputbiases=np.random.uniform(size=(1,outneurons))\n",
        "\n",
        "epochs=1000\n",
        "lr=0.1\n",
        "\n",
        "for i in range(epochs):\n",
        "  hid_activation=np.dot(x,hiddenweights)\n",
        "  hid_activation+=hiddenbiases\n",
        "  hid_output=sigmoid(hid_activation)\n",
        "  \n",
        "  out_activation=np.dot(hid_output,outputweights)\n",
        "  out_activation+=outputbiases\n",
        "  output=sigmoid(out_activation)\n",
        "  \n",
        "  error=y-output\n",
        "  d_output=error*sigmoid_derivative(output)\n",
        "  error_hid_layer=d_output.dot(outputweights.T)\n",
        "  d_hidden_layer = error_hid_layer * sigmoid_derivative(hid_output)\n",
        "  \n",
        "  outputweights+=hid_output.T.dot(d_output)*lr\n",
        "  outputbiases+=np.sum(d_output,axis=0,keepdims=True)*lr\n",
        "  hiddenweights+=x.T.dot(d_hidden_layer)*lr\n",
        "  hiddenbiases+=np.sum(d_hidden_layer,axis=0,keepdims=True)*lr\n",
        "  \n",
        "  \n",
        "print(\"\\nOutput from neural network after 10,000 epochs: \",end='')\n",
        "print(*output)"
      ],
      "execution_count": 0,
      "outputs": [
        {
          "output_type": "stream",
          "text": [
            "(32, 5)\n",
            "(32, 2)\n",
            "(5, 5)\n",
            "\n",
            "Output from neural network after 10,000 epochs: [0.47753107 0.48662768] [0.48642825 0.49451355] [0.50564347 0.50720367] [0.50319027 0.50708016] [0.48362689 0.49630986] [0.49007388 0.49948473] [0.50141966 0.50994729] [0.49860392 0.5064727 ] [0.50586827 0.50233353] [0.50363648 0.50184669] [0.51737701 0.51037835] [0.50743261 0.5044362 ] [0.50129918 0.50324397] [0.49855181 0.50032914] [0.50602384 0.5068685 ] [0.49988745 0.50164582] [0.4993187  0.49586744] [0.49849863 0.49634492] [0.51102578 0.50436231] [0.50292507 0.49975626] [0.49673129 0.49811626] [0.49544488 0.49652347] [0.50204119 0.5025181 ] [0.49738811 0.49857208] [0.51181629 0.50140378] [0.50366592 0.49708462] [0.51253696 0.50134558] [0.50250742 0.49599814] [0.50220711 0.49829325] [0.49738791 0.49505102] [0.50185295 0.49814119] [0.4968046  0.49497388]\n"
          ],
          "name": "stdout"
        }
      ]
    },
    {
      "cell_type": "code",
      "metadata": {
        "id": "DBVQ5uJF7bLV",
        "colab_type": "code",
        "colab": {}
      },
      "source": [
        ""
      ],
      "execution_count": 0,
      "outputs": []
    }
  ]
}